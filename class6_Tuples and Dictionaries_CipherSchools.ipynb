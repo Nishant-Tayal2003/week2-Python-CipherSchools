{
 "cells": [
  {
   "cell_type": "code",
   "execution_count": 1,
   "metadata": {},
   "outputs": [
    {
     "data": {
      "text/plain": [
       "tuple"
      ]
     },
     "execution_count": 1,
     "metadata": {},
     "output_type": "execute_result"
    }
   ],
   "source": [
    "a=(1,2,3,4)\n",
    "type(a)"
   ]
  },
  {
   "cell_type": "code",
   "execution_count": 2,
   "metadata": {},
   "outputs": [
    {
     "name": "stdout",
     "output_type": "stream",
     "text": [
      "<class 'tuple'>\n"
     ]
    }
   ],
   "source": [
    "def a(*args):\n",
    "    print(type(args))\n",
    "a(1,2,3,4)"
   ]
  },
  {
   "cell_type": "code",
   "execution_count": 3,
   "metadata": {},
   "outputs": [
    {
     "name": "stdout",
     "output_type": "stream",
     "text": [
      "<class 'tuple'>\n"
     ]
    }
   ],
   "source": [
    "a,b=5,9\n",
    "c=a,b\n",
    "print(type(c))"
   ]
  },
  {
   "cell_type": "code",
   "execution_count": 4,
   "metadata": {},
   "outputs": [
    {
     "data": {
      "text/plain": [
       "tuple"
      ]
     },
     "execution_count": 4,
     "metadata": {},
     "output_type": "execute_result"
    }
   ],
   "source": [
    "def func(a,b):\n",
    "    s=a+b\n",
    "    d=a-b\n",
    "    return a,b\n",
    "c=func(2,4)\n",
    "type(c)"
   ]
  },
  {
   "cell_type": "code",
   "execution_count": 5,
   "metadata": {},
   "outputs": [
    {
     "data": {
      "text/plain": [
       "tuple"
      ]
     },
     "execution_count": 5,
     "metadata": {},
     "output_type": "execute_result"
    }
   ],
   "source": [
    "a=1,2,3,4\n",
    "type(a)"
   ]
  },
  {
   "cell_type": "code",
   "execution_count": 6,
   "metadata": {},
   "outputs": [
    {
     "name": "stdout",
     "output_type": "stream",
     "text": [
      "[1, 2, 3, 4]\n"
     ]
    }
   ],
   "source": [
    "a=(1,2,3,4)\n",
    "print(list(a))"
   ]
  },
  {
   "cell_type": "code",
   "execution_count": 7,
   "metadata": {},
   "outputs": [
    {
     "name": "stdout",
     "output_type": "stream",
     "text": [
      "[0, 1, 2, 3, 4]\n"
     ]
    }
   ],
   "source": [
    "print(list(range(5)))"
   ]
  },
  {
   "cell_type": "code",
   "execution_count": 8,
   "metadata": {},
   "outputs": [
    {
     "name": "stdout",
     "output_type": "stream",
     "text": [
      "(0, 1, 2, 3, 4)\n"
     ]
    }
   ],
   "source": [
    "print(tuple(range(5)))"
   ]
  },
  {
   "cell_type": "code",
   "execution_count": 11,
   "metadata": {},
   "outputs": [
    {
     "name": "stdout",
     "output_type": "stream",
     "text": [
      "nishant tayal\n",
      "nishant\n",
      "tayal\n"
     ]
    }
   ],
   "source": [
    "a={\n",
    "    \"name\":\"nishant tayal\",\n",
    "    1:\"nishant\",\n",
    "    (1,2):\"tayal\"\n",
    "}\n",
    "print(a[\"name\"])\n",
    "print(a[1])\n",
    "print(a[(1,2)])"
   ]
  },
  {
   "cell_type": "code",
   "execution_count": 12,
   "metadata": {},
   "outputs": [
    {
     "ename": "TypeError",
     "evalue": "unhashable type: 'list'",
     "output_type": "error",
     "traceback": [
      "\u001b[0;31m---------------------------------------------------------------------------\u001b[0m",
      "\u001b[0;31mTypeError\u001b[0m                                 Traceback (most recent call last)",
      "Cell \u001b[0;32mIn[12], line 1\u001b[0m\n\u001b[0;32m----> 1\u001b[0m a\u001b[39m=\u001b[39m{\n\u001b[1;32m      2\u001b[0m     [\u001b[39m1\u001b[39m,\u001b[39m2\u001b[39m]:\u001b[39m\"\u001b[39m\u001b[39mnishant\u001b[39m\u001b[39m\"\u001b[39m\n\u001b[1;32m      3\u001b[0m }\n\u001b[1;32m      4\u001b[0m \u001b[39mprint\u001b[39m(a[[\u001b[39m1\u001b[39m,\u001b[39m2\u001b[39m]])\n",
      "\u001b[0;31mTypeError\u001b[0m: unhashable type: 'list'"
     ]
    }
   ],
   "source": [
    "a={\n",
    "    [1,2]:\"nishant\"\n",
    "}\n",
    "print(a[[1,2]])"
   ]
  },
  {
   "cell_type": "code",
   "execution_count": 13,
   "metadata": {},
   "outputs": [
    {
     "name": "stdout",
     "output_type": "stream",
     "text": [
      "{'name': 'nishant tayal'}\n"
     ]
    }
   ],
   "source": [
    "a={\"name\":\"nishant\"}\n",
    "a[\"name\"]=\"nishant tayal\"\n",
    "print(a)"
   ]
  },
  {
   "cell_type": "code",
   "execution_count": 14,
   "metadata": {},
   "outputs": [
    {
     "name": "stdout",
     "output_type": "stream",
     "text": [
      "key doesn't exist\n"
     ]
    }
   ],
   "source": [
    "a={\"name\":\"nishant\",\n",
    "\"marks\":\"humdred\",\n",
    "\"town\":\"fzr\"}\n",
    "key=\"college\"\n",
    "if key in a:\n",
    "    print(a[key])\n",
    "else:\n",
    "    print(\"key doesn't exist\")"
   ]
  },
  {
   "cell_type": "code",
   "execution_count": 15,
   "metadata": {},
   "outputs": [
    {
     "name": "stdout",
     "output_type": "stream",
     "text": [
      "None\n"
     ]
    }
   ],
   "source": [
    "a={\"name\":\"nishant\",\n",
    "\"marks\":\"humdred\",\n",
    "\"town\":\"fzr\"}\n",
    "key=\"college\"\n",
    "print(a.get(key))"
   ]
  },
  {
   "cell_type": "code",
   "execution_count": 18,
   "metadata": {},
   "outputs": [
    {
     "name": "stdout",
     "output_type": "stream",
     "text": [
      "key doesn't exist\n"
     ]
    }
   ],
   "source": [
    "a={\"name\":\"nishant\",\n",
    "\"marks\":\"humdred\",\n",
    "\"town\":\"fzr\"}\n",
    "key=\"colleg\"\n",
    "print(a.get(key,\"key doesn't exist\"))"
   ]
  },
  {
   "cell_type": "code",
   "execution_count": 19,
   "metadata": {},
   "outputs": [
    {
     "name": "stdout",
     "output_type": "stream",
     "text": [
      "nishant\n"
     ]
    }
   ],
   "source": [
    "a={\"name\":\"nishant\",\n",
    "\"marks\":\"humdred\",\n",
    "\"town\":\"fzr\"}\n",
    "key=\"name\"\n",
    "print(a.get(key,\"key doesn't exist\"))"
   ]
  },
  {
   "cell_type": "code",
   "execution_count": 23,
   "metadata": {},
   "outputs": [
    {
     "name": "stdout",
     "output_type": "stream",
     "text": [
      "dict_keys(['name', 'marks', 'town'])\n",
      "dict_values(['nishant', 'humdred', 'fzr'])\n"
     ]
    }
   ],
   "source": [
    "a={\"name\":\"nishant\",\n",
    "\"marks\":\"humdred\",\n",
    "\"town\":\"fzr\"}\n",
    "print(a.keys())\n",
    "print(a.values())"
   ]
  },
  {
   "cell_type": "code",
   "execution_count": 26,
   "metadata": {},
   "outputs": [
    {
     "name": "stdout",
     "output_type": "stream",
     "text": [
      "('name', 'nishant')\n",
      "('marks', 'humdred')\n",
      "('town', 'fzr')\n"
     ]
    }
   ],
   "source": [
    "a={\"name\":\"nishant\",\n",
    "\"marks\":\"humdred\",\n",
    "\"town\":\"fzr\"}\n",
    "for x in a.items():\n",
    "    print(x)"
   ]
  },
  {
   "cell_type": "code",
   "execution_count": 25,
   "metadata": {},
   "outputs": [
    {
     "name": "stdout",
     "output_type": "stream",
     "text": [
      "['name', 'marks', 'town']\n"
     ]
    }
   ],
   "source": [
    "a={\"name\":\"nishant\",\n",
    "\"marks\":\"humdred\",\n",
    "\"town\":\"fzr\"}\n",
    "print(list(a))"
   ]
  },
  {
   "cell_type": "code",
   "execution_count": 27,
   "metadata": {},
   "outputs": [
    {
     "name": "stdout",
     "output_type": "stream",
     "text": [
      "name -- nishant\n",
      "marks -- humdred\n",
      "town -- fzr\n"
     ]
    }
   ],
   "source": [
    "a={\"name\":\"nishant\",\n",
    "\"marks\":\"humdred\",\n",
    "\"town\":\"fzr\"}\n",
    "for key,value in a.items():\n",
    "    print(key,\"--\",value)"
   ]
  },
  {
   "cell_type": "code",
   "execution_count": 32,
   "metadata": {},
   "outputs": [
    {
     "name": "stdout",
     "output_type": "stream",
     "text": [
      "True\n"
     ]
    }
   ],
   "source": [
    "a={\"name\":\"nishant\",\n",
    "\"marks\":\"humdred\",\n",
    "\"town\":\"fzr\"}\n",
    "print(\"name\" in a)"
   ]
  },
  {
   "cell_type": "code",
   "execution_count": 33,
   "metadata": {},
   "outputs": [
    {
     "name": "stdout",
     "output_type": "stream",
     "text": [
      "name\n",
      "marks\n",
      "town\n"
     ]
    }
   ],
   "source": [
    "a={\"name\":\"nishant\",\n",
    "\"marks\":\"humdred\",\n",
    "\"town\":\"fzr\"}\n",
    "for x in a:\n",
    "    print(x)"
   ]
  }
 ],
 "metadata": {
  "kernelspec": {
   "display_name": "Python 3.10.4 64-bit",
   "language": "python",
   "name": "python3"
  },
  "language_info": {
   "codemirror_mode": {
    "name": "ipython",
    "version": 3
   },
   "file_extension": ".py",
   "mimetype": "text/x-python",
   "name": "python",
   "nbconvert_exporter": "python",
   "pygments_lexer": "ipython3",
   "version": "3.10.6 (main, Nov  2 2022, 18:53:38) [GCC 11.3.0]"
  },
  "orig_nbformat": 4,
  "vscode": {
   "interpreter": {
    "hash": "916dbcbb3f70747c44a77c7bcd40155683ae19c65e1c03b4aa3499c5328201f1"
   }
  }
 },
 "nbformat": 4,
 "nbformat_minor": 2
}
