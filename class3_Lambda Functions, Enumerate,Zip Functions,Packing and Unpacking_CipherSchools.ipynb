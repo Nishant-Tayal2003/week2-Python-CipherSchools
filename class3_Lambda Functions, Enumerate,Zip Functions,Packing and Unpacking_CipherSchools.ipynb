{
 "cells": [
  {
   "cell_type": "code",
   "execution_count": 1,
   "metadata": {},
   "outputs": [
    {
     "data": {
      "text/plain": [
       "<function __main__.<lambda>(a, b)>"
      ]
     },
     "execution_count": 1,
     "metadata": {},
     "output_type": "execute_result"
    }
   ],
   "source": [
    "lambda a,b : a+b"
   ]
  },
  {
   "cell_type": "code",
   "execution_count": 2,
   "metadata": {},
   "outputs": [
    {
     "name": "stdout",
     "output_type": "stream",
     "text": [
      "something\n"
     ]
    }
   ],
   "source": [
    "show=print\n",
    "show(\"something\")"
   ]
  },
  {
   "cell_type": "code",
   "execution_count": 4,
   "metadata": {},
   "outputs": [
    {
     "name": "stdout",
     "output_type": "stream",
     "text": [
      "(0, 'nishant')\n",
      "(1, 'tayal')\n",
      "(2, 'abcd')\n",
      "(3, 'egfh')\n"
     ]
    }
   ],
   "source": [
    "names=[\"nishant\",\"tayal\",\"abcd\",\"egfh\"]\n",
    "for name in enumerate(names):\n",
    "    print(name)"
   ]
  },
  {
   "cell_type": "code",
   "execution_count": 6,
   "metadata": {},
   "outputs": [
    {
     "name": "stdout",
     "output_type": "stream",
     "text": [
      "0 nishant\n",
      "1 tayal\n",
      "2 abcd\n",
      "3 egfh\n"
     ]
    }
   ],
   "source": [
    "names=[\"nishant\",\"tayal\",\"abcd\",\"egfh\"]\n",
    "for name in enumerate(names):\n",
    "    print(name[0],name[1])"
   ]
  },
  {
   "cell_type": "code",
   "execution_count": 7,
   "metadata": {},
   "outputs": [
    {
     "name": "stdout",
     "output_type": "stream",
     "text": [
      "9 5\n"
     ]
    }
   ],
   "source": [
    "#swap variable without third variable\n",
    "a=5\n",
    "b=9\n",
    "\n",
    "a=a+b\n",
    "b=a-b\n",
    "a=a-b\n",
    "print(a,b)"
   ]
  },
  {
   "cell_type": "code",
   "execution_count": 8,
   "metadata": {},
   "outputs": [
    {
     "name": "stdout",
     "output_type": "stream",
     "text": [
      "9 5\n"
     ]
    }
   ],
   "source": [
    "a=5\n",
    "b=9\n",
    "\n",
    "a=a^b\n",
    "b=a^b\n",
    "a=a^b\n",
    "\n",
    "print(a,b)"
   ]
  },
  {
   "cell_type": "code",
   "execution_count": 9,
   "metadata": {},
   "outputs": [
    {
     "name": "stdout",
     "output_type": "stream",
     "text": [
      "9 5\n"
     ]
    }
   ],
   "source": [
    "a=5\n",
    "b=9\n",
    "\n",
    "a,b=b,a\n",
    "print(a,b)"
   ]
  },
  {
   "cell_type": "code",
   "execution_count": 12,
   "metadata": {},
   "outputs": [
    {
     "name": "stdout",
     "output_type": "stream",
     "text": [
      "0 - nishant\n",
      "1 - tayal\n",
      "2 - abcd\n",
      "3 - egfh\n"
     ]
    }
   ],
   "source": [
    "names=[\"nishant\",\"tayal\",\"abcd\",\"egfh\"]\n",
    "for i,name in enumerate(names):\n",
    "    print(i,\"-\",name)"
   ]
  },
  {
   "cell_type": "code",
   "execution_count": 15,
   "metadata": {},
   "outputs": [
    {
     "name": "stdout",
     "output_type": "stream",
     "text": [
      "nishant - 20\n",
      "tayal - 30\n",
      "abcd - 40\n",
      "egfh - 50\n"
     ]
    }
   ],
   "source": [
    "names=[\"nishant\",\"tayal\",\"abcd\",\"egfh\"]\n",
    "scores=[20,30,40,50]\n",
    "for i,name in enumerate(names):\n",
    "    score=scores[i]\n",
    "    print(name,\"-\",score)"
   ]
  },
  {
   "cell_type": "code",
   "execution_count": 16,
   "metadata": {},
   "outputs": [
    {
     "name": "stdout",
     "output_type": "stream",
     "text": [
      "nishant - 20\n",
      "tayal - 30\n",
      "abcd - 40\n",
      "egfh - 50\n"
     ]
    }
   ],
   "source": [
    "names=[\"nishant\",\"tayal\",\"abcd\",\"egfh\"]\n",
    "scores=[20,30,40,50]\n",
    "for name,score in zip(names,scores):\n",
    "    print(name,\"-\",score)"
   ]
  },
  {
   "cell_type": "code",
   "execution_count": 17,
   "metadata": {},
   "outputs": [
    {
     "name": "stdout",
     "output_type": "stream",
     "text": [
      "nishant - 20 punjab\n",
      "tayal - 30 haryana\n",
      "abcd - 40 delhi\n",
      "egfh - 50 up\n"
     ]
    }
   ],
   "source": [
    "names=[\"nishant\",\"tayal\",\"abcd\",\"egfh\"]\n",
    "scores=[20,30,40,50]\n",
    "states=[\"punjab\",\"haryana\",\"delhi\",\"up\"]\n",
    "for name,score,state in zip(names,scores,states):\n",
    "    print(name,\"-\",score,state)"
   ]
  }
 ],
 "metadata": {
  "kernelspec": {
   "display_name": "Python 3.10.4 64-bit",
   "language": "python",
   "name": "python3"
  },
  "language_info": {
   "codemirror_mode": {
    "name": "ipython",
    "version": 3
   },
   "file_extension": ".py",
   "mimetype": "text/x-python",
   "name": "python",
   "nbconvert_exporter": "python",
   "pygments_lexer": "ipython3",
   "version": "3.10.4"
  },
  "orig_nbformat": 4,
  "vscode": {
   "interpreter": {
    "hash": "916dbcbb3f70747c44a77c7bcd40155683ae19c65e1c03b4aa3499c5328201f1"
   }
  }
 },
 "nbformat": 4,
 "nbformat_minor": 2
}
