{
 "cells": [
  {
   "cell_type": "code",
   "execution_count": 1,
   "metadata": {},
   "outputs": [
    {
     "name": "stdout",
     "output_type": "stream",
     "text": [
      "11\n",
      "loading...\n",
      "loading...\n",
      "loading...\n",
      "-9\n",
      "loading...\n",
      "loading...\n",
      "loading...\n",
      "10\n",
      "loading...\n",
      "loading...\n",
      "loading...\n",
      "0.1\n"
     ]
    }
   ],
   "source": [
    "def show_loading():\n",
    "    for _ in range(3):\n",
    "        print(\"loading...\")\n",
    "a=1\n",
    "b=10\n",
    "print(a+b)\n",
    "show_loading()\n",
    "print(a-b)\n",
    "show_loading()\n",
    "print(a*b)\n",
    "show_loading()\n",
    "print(a/b)\n"
   ]
  },
  {
   "cell_type": "code",
   "execution_count": 1,
   "metadata": {},
   "outputs": [
    {
     "name": "stdout",
     "output_type": "stream",
     "text": [
      "30\n"
     ]
    }
   ],
   "source": [
    "def add(a,b):\n",
    "    return a+b\n",
    "a=add(10,20)\n",
    "print(a)"
   ]
  },
  {
   "cell_type": "code",
   "execution_count": 2,
   "metadata": {},
   "outputs": [
    {
     "name": "stdout",
     "output_type": "stream",
     "text": [
      "loading .\n",
      "loading ..\n",
      "loading ...\n"
     ]
    }
   ],
   "source": [
    "def show_loading():\n",
    "    for _ in range(3):\n",
    "        print(\"loading\",\".\"*(_+1))\n",
    "show_loading()"
   ]
  },
  {
   "cell_type": "code",
   "execution_count": 3,
   "metadata": {},
   "outputs": [
    {
     "name": "stdout",
     "output_type": "stream",
     "text": [
      "knock knock knock nishant\n",
      "knock knock knock nishant\n",
      "knock knock knock nishant\n"
     ]
    }
   ],
   "source": [
    "def knock(name):\n",
    "    for _ in range(3):\n",
    "        print(\"knock knock knock\",name)\n",
    "knock(\"nishant\")"
   ]
  },
  {
   "cell_type": "code",
   "execution_count": 4,
   "metadata": {},
   "outputs": [
    {
     "name": "stdout",
     "output_type": "stream",
     "text": [
      "knock knock knock nishant\n",
      "knock knock knock nishant\n",
      "knock knock knock nishant\n",
      "knock knock knock nishant\n",
      "knock knock knock nishant\n",
      "knock knock knock nishant\n",
      "knock knock knock nishant\n",
      "knock knock knock nishant\n",
      "knock knock knock nishant\n",
      "knock knock knock nishant\n",
      "knock knock knock nishant\n",
      "knock knock knock nishant\n",
      "knock knock knock nishant\n",
      "knock knock knock nishant\n",
      "knock knock knock nishant\n",
      "knock knock knock nishant\n",
      "knock knock knock nishant\n",
      "knock knock knock nishant\n",
      "knock knock knock nishant\n",
      "knock knock knock nishant\n",
      "knock knock knock nishant\n",
      "knock knock knock nishant\n",
      "knock knock knock nishant\n",
      "knock knock knock nishant\n",
      "knock knock knock nishant\n",
      "knock knock knock nishant\n",
      "knock knock knock nishant\n",
      "knock knock knock nishant\n",
      "knock knock knock nishant\n",
      "knock knock knock nishant\n",
      "knock knock knock nishant\n",
      "knock knock knock nishant\n",
      "knock knock knock nishant\n",
      "knock knock knock nishant\n",
      "knock knock knock nishant\n",
      "knock knock knock nishant\n",
      "knock knock knock nishant\n",
      "knock knock knock nishant\n",
      "knock knock knock nishant\n",
      "knock knock knock nishant\n",
      "knock knock knock nishant\n",
      "knock knock knock nishant\n",
      "knock knock knock nishant\n",
      "knock knock knock nishant\n",
      "knock knock knock nishant\n",
      "knock knock knock nishant\n",
      "knock knock knock nishant\n",
      "knock knock knock nishant\n",
      "knock knock knock nishant\n",
      "knock knock knock nishant\n",
      "knock knock knock nishant\n",
      "knock knock knock nishant\n",
      "knock knock knock nishant\n",
      "knock knock knock nishant\n",
      "knock knock knock nishant\n",
      "knock knock knock nishant\n",
      "knock knock knock nishant\n",
      "knock knock knock nishant\n",
      "knock knock knock nishant\n",
      "knock knock knock nishant\n",
      "knock knock knock nishant\n",
      "knock knock knock nishant\n",
      "knock knock knock nishant\n",
      "knock knock knock nishant\n",
      "knock knock knock nishant\n",
      "knock knock knock nishant\n",
      "knock knock knock nishant\n",
      "knock knock knock nishant\n",
      "knock knock knock nishant\n",
      "knock knock knock nishant\n",
      "knock knock knock nishant\n",
      "knock knock knock nishant\n",
      "knock knock knock nishant\n",
      "knock knock knock nishant\n",
      "knock knock knock nishant\n",
      "knock knock knock nishant\n",
      "knock knock knock nishant\n",
      "knock knock knock nishant\n",
      "knock knock knock nishant\n",
      "knock knock knock nishant\n",
      "knock knock knock nishant\n",
      "knock knock knock nishant\n",
      "knock knock knock nishant\n",
      "knock knock knock nishant\n",
      "knock knock knock nishant\n",
      "knock knock knock nishant\n",
      "knock knock knock nishant\n",
      "knock knock knock nishant\n",
      "knock knock knock nishant\n",
      "knock knock knock nishant\n",
      "knock knock knock nishant\n",
      "knock knock knock nishant\n",
      "knock knock knock nishant\n",
      "knock knock knock nishant\n",
      "knock knock knock nishant\n",
      "knock knock knock nishant\n",
      "knock knock knock nishant\n",
      "knock knock knock nishant\n",
      "knock knock knock nishant\n",
      "knock knock knock nishant\n"
     ]
    }
   ],
   "source": [
    "def knock(name,times=3):\n",
    "    for _ in range(times):\n",
    "        print(\"knock knock knock\",name)\n",
    "knock(\"nishant\",100)\n"
   ]
  }
 ],
 "metadata": {
  "kernelspec": {
   "display_name": "Python 3.10.4 64-bit",
   "language": "python",
   "name": "python3"
  },
  "language_info": {
   "codemirror_mode": {
    "name": "ipython",
    "version": 3
   },
   "file_extension": ".py",
   "mimetype": "text/x-python",
   "name": "python",
   "nbconvert_exporter": "python",
   "pygments_lexer": "ipython3",
   "version": "3.10.6"
  },
  "orig_nbformat": 4,
  "vscode": {
   "interpreter": {
    "hash": "916dbcbb3f70747c44a77c7bcd40155683ae19c65e1c03b4aa3499c5328201f1"
   }
  }
 },
 "nbformat": 4,
 "nbformat_minor": 2
}
